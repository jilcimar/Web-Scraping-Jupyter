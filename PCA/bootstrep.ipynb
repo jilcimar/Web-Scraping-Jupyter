{
 "cells": [
  {
   "cell_type": "markdown",
   "metadata": {},
   "source": [
    "BOOTSTREP\n",
    "\n",
    "\n",
    "yi= b0+ b1*xi +er"
   ]
  },
  {
   "cell_type": "code",
   "execution_count": 20,
   "metadata": {},
   "outputs": [
    {
     "name": "stdout",
     "output_type": "stream",
     "text": [
      "0.19934398152825591\n",
      "0.9382985363182058\n",
      "0.9686581111611082\n"
     ]
    }
   ],
   "source": [
    "import numpy as np \n",
    "import random \n",
    "import matplotlib.pyplot as plt\n",
    "from math import log\n",
    "\n",
    "x = np.random.normal(0,1,100)\n",
    "\n",
    "media = np.median(x)\n",
    "variancia = np.var(x)\n",
    "desviop = np.std(x)\n",
    "print(media)\n",
    "print(variancia)\n",
    "print(desviop)"
   ]
  },
  {
   "cell_type": "code",
   "execution_count": 59,
   "metadata": {},
   "outputs": [
    {
     "ename": "IndentationError",
     "evalue": "expected an indented block (<ipython-input-59-e50719016de1>, line 4)",
     "output_type": "error",
     "traceback": [
      "\u001b[1;36m  File \u001b[1;32m\"<ipython-input-59-e50719016de1>\"\u001b[1;36m, line \u001b[1;32m4\u001b[0m\n\u001b[1;33m    inx = np.random.normal(1,99)\u001b[0m\n\u001b[1;37m      ^\u001b[0m\n\u001b[1;31mIndentationError\u001b[0m\u001b[1;31m:\u001b[0m expected an indented block\n"
     ]
    }
   ],
   "source": [
    "med = []\n",
    "\n",
    "for i in range(1000):\n",
    "inx = np.random(1,99)\n",
    "vet =x(inx)\n",
    "med= np.median(vet)\n",
    "\n",
    "print(med)"
   ]
  },
  {
   "cell_type": "code",
   "execution_count": 60,
   "metadata": {},
   "outputs": [
    {
     "ename": "IndentationError",
     "evalue": "unexpected indent (<ipython-input-60-3c41ca15c555>, line 2)",
     "output_type": "error",
     "traceback": [
      "\u001b[1;36m  File \u001b[1;32m\"<ipython-input-60-3c41ca15c555>\"\u001b[1;36m, line \u001b[1;32m2\u001b[0m\n\u001b[1;33m    print(inx)\u001b[0m\n\u001b[1;37m    ^\u001b[0m\n\u001b[1;31mIndentationError\u001b[0m\u001b[1;31m:\u001b[0m unexpected indent\n"
     ]
    }
   ],
   "source": []
  }
 ],
 "metadata": {
  "kernelspec": {
   "display_name": "Python 3",
   "language": "python",
   "name": "python3"
  },
  "language_info": {
   "codemirror_mode": {
    "name": "ipython",
    "version": 3
   },
   "file_extension": ".py",
   "mimetype": "text/x-python",
   "name": "python",
   "nbconvert_exporter": "python",
   "pygments_lexer": "ipython3",
   "version": "3.7.4"
  }
 },
 "nbformat": 4,
 "nbformat_minor": 2
}
