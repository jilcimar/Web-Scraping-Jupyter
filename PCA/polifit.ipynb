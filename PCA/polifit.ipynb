{
 "cells": [
  {
   "cell_type": "code",
   "execution_count": 77,
   "metadata": {},
   "outputs": [
    {
     "name": "stdout",
     "output_type": "stream",
     "text": [
      "[ 1.77955385e-01  1.76683201e-01  1.54427100e-01  3.28136428e-02\n",
      "  9.37050719e-02  2.23369192e-01  1.23301191e-01  1.48672479e-01\n",
      "  7.20486479e-03  1.33363123e-02  6.27913936e-02  2.25152650e-01\n",
      "  1.48878658e-01  1.31465716e-02  1.43213383e-01  1.31031597e-01\n",
      "  1.60124562e-01  3.19770499e-02 -1.91225935e-02  1.60758435e-01\n",
      " -9.42691701e-02 -8.28502839e-02  9.71811694e-02  2.12923377e-01\n",
      "  1.94931099e-01  1.92610720e-01  5.17723521e-02  2.05302137e-01\n",
      "  1.35760512e-01  2.88285650e-02  1.20177069e-01  8.74276068e-02\n",
      "  1.03213493e-01  2.25160206e-01  2.53016944e-01  3.22270709e-01\n",
      " -4.63069407e-02  1.09848566e-01  1.87889722e-01  2.84736399e-01\n",
      " -6.25957020e-02  5.54553301e-03  8.30165315e-02  1.27003372e-01\n",
      "  1.65207277e-02  1.61189547e-01  1.48003921e-01  2.17957700e-01\n",
      "  5.28365512e-02  7.98316496e-02  4.69481389e-02  6.36192317e-02\n",
      "  5.38376131e-02  2.28948726e-01  1.98503829e-01  1.52122660e-01\n",
      "  2.14456978e-01 -2.97753610e-04  2.36821542e-01  1.06416577e-01\n",
      "  9.04866608e-02  1.06484417e-01 -6.37343788e-02  1.18156407e-01\n",
      " -4.38398565e-03  7.35459637e-02  2.60284023e-01  3.76924895e-02\n",
      "  9.34419260e-02  2.65173477e-01  4.94312290e-02  5.12336224e-02\n",
      "  3.37937115e-01  6.12665826e-02  6.92230980e-02  1.47176560e-01\n",
      "  8.86700233e-02  2.33107305e-01 -3.60708470e-02  1.08322257e-01\n",
      "  3.33079920e-01  2.64572138e-01  9.58095042e-02  1.77347893e-01\n",
      "  1.71570203e-01  1.81966080e-01 -2.94346713e-02  2.11854232e-01\n",
      "  4.15188023e-02 -8.74702790e-03  5.10329476e-02  6.21376583e-02\n",
      "  1.18457312e-01  1.17059671e-01 -9.63249287e-02  1.01915107e-01\n",
      "  1.22117137e-01  1.83266552e-01  1.30751364e-01  1.91817108e-01]\n"
     ]
    },
    {
     "data": {
      "text/plain": [
       "[<matplotlib.lines.Line2D at 0xa179808>]"
      ]
     },
     "execution_count": 77,
     "metadata": {},
     "output_type": "execute_result"
    },
    {
     "data": {
      "image/png": "[encoded data removed]",
      "text/plain": [
       "<Figure size 432x288 with 1 Axes>"
      ]
     },
     "metadata": {
      "needs_background": "light"
     },
     "output_type": "display_data"
    }
   ],
   "source": [
    "import numpy as np \n",
    "import random \n",
    "import matplotlib.pyplot as plt\n",
    "from math import log\n",
    "\n",
    "\n",
    "b0 = 0.1 \n",
    "b1 = 0.2\n",
    "b2 = 0.1\n",
    "\n",
    "\n",
    "xi = np.random.normal(0,0.1,100)\n",
    "er = np.random.normal(0,0.1,100)\n",
    "\n",
    "y = b0 + b1*xi+b2*(xi*xi)+er\n",
    "\n",
    "print(y)\n",
    "\n",
    "p,r1,_,_,_= np.polyfit(xi,y,0, full = True)\n",
    "p,r2,_,_,_= np.polyfit(xi,y,1, full = True)\n",
    "p,r3,_,_,_= np.polyfit(xi,y,2, full = True)\n",
    "p,r4,_,_,_= np.polyfit(xi,y,3, full = True)\n",
    "p,r5,_,_,_= np.polyfit(xi,y,4, full = True)\n",
    "p,r6,_,_,_= np.polyfit(xi,y,5, full = True)\n",
    "\n",
    "r = [r1,r2,r3,r4,r5]\n",
    "\n",
    "plt.plot(range(5), r)\n",
    "\n"
   ]
  },
  {
   "cell_type": "code",
   "execution_count": 80,
   "metadata": {},
   "outputs": [
    {
     "ename": "TypeError",
     "evalue": "'list' object is not callable",
     "output_type": "error",
     "traceback": [
      "\u001b[1;31m---------------------------------------------------------------------------\u001b[0m",
      "\u001b[1;31mTypeError\u001b[0m                                 Traceback (most recent call last)",
      "\u001b[1;32m<ipython-input-80-366e21bb582a>\u001b[0m in \u001b[0;36m<module>\u001b[1;34m\u001b[0m\n\u001b[0;32m      1\u001b[0m \u001b[0mn\u001b[0m \u001b[1;33m=\u001b[0m \u001b[1;36m5\u001b[0m\u001b[1;33m\u001b[0m\u001b[1;33m\u001b[0m\u001b[0m\n\u001b[1;32m----> 2\u001b[1;33m \u001b[0ma\u001b[0m \u001b[1;33m=\u001b[0m \u001b[0mlog\u001b[0m\u001b[1;33m(\u001b[0m\u001b[0mr\u001b[0m\u001b[1;33m(\u001b[0m\u001b[1;36m0\u001b[0m\u001b[1;33m)\u001b[0m\u001b[1;33m/\u001b[0m\u001b[0mn\u001b[0m\u001b[1;33m)\u001b[0m\u001b[1;33m\u001b[0m\u001b[1;33m\u001b[0m\u001b[0m\n\u001b[0m",
      "\u001b[1;31mTypeError\u001b[0m: 'list' object is not callable"
     ]
    }
   ],
   "source": [
    "n = 5\n",
    "a = log(r(0)/n)\n",
    "g = n*(log(r/n))+2*5"
   ]
  }
 ],
 "metadata": {
  "kernelspec": {
   "display_name": "Python 3",
   "language": "python",
   "name": "python3"
  },
  "language_info": {
   "codemirror_mode": {
    "name": "ipython",
    "version": 3
   },
   "file_extension": ".py",
   "mimetype": "text/x-python",
   "name": "python",
   "nbconvert_exporter": "python",
   "pygments_lexer": "ipython3",
   "version": "3.7.4"
  }
 },
 "nbformat": 4,
 "nbformat_minor": 2
}
