{
 "cells": [
  {
   "cell_type": "code",
   "execution_count": 4,
   "metadata": {},
   "outputs": [],
   "source": [
    "import numpy as np\n",
    "import matplotlib.pyplot as plt"
   ]
  },
  {
   "cell_type": "code",
   "execution_count": 28,
   "metadata": {},
   "outputs": [
    {
     "name": "stdout",
     "output_type": "stream",
     "text": [
      "[0.17660872]\n",
      "[5.91384911]\n",
      "[0.19715345 0.20784677]\n",
      "[1.80303567]\n",
      "[0.10012915 0.19994938 0.09988003]\n",
      "[9.06792996e-05]\n",
      "[8.95192432e-05 1.00096357e-01 1.99699657e-01 9.98939749e-02]\n",
      "[8.80836731e-05]\n",
      "[-7.45629943e-07  8.98017729e-05  1.00099777e-01  1.99699552e-01\n",
      "  9.98925283e-02]\n",
      "[8.80833637e-05]\n",
      "[[ 1.77729691]\n",
      " [ 0.58947173]\n",
      " [-9.30818146]\n",
      " [-9.33722336]\n",
      " [-9.33722688]]\n"
     ]
    },
    {
     "data": {
      "text/plain": [
       "[<matplotlib.lines.Line2D at 0x7f44681374a8>]"
      ]
     },
     "execution_count": 28,
     "metadata": {},
     "output_type": "execute_result"
    },
    {
     "data": {
      "image/png": "[encoded data removed]",
      "text/plain": [
       "<Figure size 432x288 with 1 Axes>"
      ]
     },
     "metadata": {
      "needs_background": "light"
     },
     "output_type": "display_data"
    }
   ],
   "source": [
    "x = np.random.normal(0, 1, 100)\n",
    "e = np.random.normal(0, 0.001, 100)\n",
    "y = 0.1 + 0.2*x + 0.1*(x**2) + e\n",
    "\n",
    "p, r, a, b, c = np.polyfit(x, y, 0, full=True)\n",
    "p1, r1, a, b, c = np.polyfit(x, y, 1, full=True)\n",
    "p2, r2, a, b, c = np.polyfit(x, y, 2, full=True)\n",
    "p3, r3, a, b, c = np.polyfit(x, y, 3, full=True)\n",
    "p4, r4, a, b, c = np.polyfit(x, y, 4, full=True)\n",
    "\n",
    "print(p)\n",
    "print(r)\n",
    "print(p1)\n",
    "print(r1)\n",
    "print(p2)\n",
    "print(r2)\n",
    "print(p3)\n",
    "print(r3)\n",
    "print(p4)\n",
    "print(r4)\n",
    "R = [r, r1, r2, r3, r4]\n",
    "O = [0, 1, 2, 3, 4]\n",
    "#plt.plot(x,y, '.')\n",
    "plt.plot(O, np.log(R))"
   ]
  }
 ],
 "metadata": {
  "kernelspec": {
   "display_name": "Python 3",
   "language": "python",
   "name": "python3"
  },
  "language_info": {
   "codemirror_mode": {
    "name": "ipython",
    "version": 3
   },
   "file_extension": ".py",
   "mimetype": "text/x-python",
   "name": "python",
   "nbconvert_exporter": "python",
   "pygments_lexer": "ipython3",
   "version": "3.7.4"
  }
 },
 "nbformat": 4,
 "nbformat_minor": 2
}
