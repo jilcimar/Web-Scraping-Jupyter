{
 "cells": [
  {
   "cell_type": "markdown",
   "metadata": {},
   "source": [
    "Exercicio: usando os Dados do iris, mais reduzindo para 60 dados usando omo teste o resto que e (90) dados, comparem regreção logistica, lda , svm, em relação a acoracia.\n",
    "calculando o intervalo de confiaça. \n",
    "depois fazer o crosvalideishom.\n",
    "\n",
    "1-pegar 60/90 de casa um(lda.svm...)\n",
    "2-calcular 1000 acoracia \n",
    "3- calcular o desvio padrão(media +- desviopadrão * 1.96"
   ]
  },
  {
   "cell_type": "code",
   "execution_count": null,
   "metadata": {},
   "outputs": [],
   "source": []
  },
  {
   "cell_type": "code",
   "execution_count": null,
   "metadata": {},
   "outputs": [],
   "source": [
    "\n"
   ]
  }
 ],
 "metadata": {
  "kernelspec": {
   "display_name": "Python 3",
   "language": "python",
   "name": "python3"
  },
  "language_info": {
   "codemirror_mode": {
    "name": "ipython",
    "version": 3
   },
   "file_extension": ".py",
   "mimetype": "text/x-python",
   "name": "python",
   "nbconvert_exporter": "python",
   "pygments_lexer": "ipython3",
   "version": "3.7.4"
  }
 },
 "nbformat": 4,
 "nbformat_minor": 2
}
